{
 "cells": [
  {
   "cell_type": "markdown",
   "metadata": {},
   "source": [
    "# Data Loading and Parsing"
   ]
  },
  {
   "cell_type": "code",
   "execution_count": 1,
   "metadata": {
    "collapsed": true
   },
   "outputs": [],
   "source": [
    "from pyspark import SparkContext\n",
    "from pyspark.sql import SQLContext\n",
    "from pyspark.sql.types import *"
   ]
  },
  {
   "cell_type": "code",
   "execution_count": 2,
   "metadata": {},
   "outputs": [],
   "source": [
    "# - loas csv as RDD, csv stored at same path of ipython on remote machine\n",
    "train_rdd = sc.textFile(\"./train.csv\")\n",
    "test_rdd = sc.textFile(\"./test.csv\")\n",
    "# train_rdd.take(3)\n",
    "# train_rdd.count() # 892, correct\n",
    "# test_rdd.count() # 419, correct\n",
    "# test_rdd.take(3)\n",
    "\n",
    "\n",
    "# - Train RDD to DataFrame\n",
    "# - - use the header to build the fields for our schema (http://www.nodalpoint.com/spark-data-frames-from-csv-files-handling-headers-column-types/)\n",
    "train_header = train_rdd.first()\n",
    "train_rdd_temp = train_rdd.filter (lambda line: line!=train_header) # deleting header to prepare for dataframe \n",
    "train_header = train_header.replace('\"','')  # get rid of the double-quotes\n",
    "colnames = train_header.split(',')\n",
    "colnames.insert(3,'FirstName') # It's a trap~ the name is in the forms of \"firstname, mrs.tom jerry\" with comma (https://6chaoran.wordpress.com/2016/08/13/__trashed/)\n",
    "train_fields = [StructField(field_name, StringType(), True) for field_name in colnames]\n",
    "train_fields[4].name = 'TitleLastname'\n",
    "\n",
    "# will convert type later\n",
    "# train_fields[0].dataType = IntegerType() # PassengerId\n",
    "# train_fields[1].dataType = IntegerType() # Survived; sex, ticket, cabin,embarked are strings\n",
    "# train_fields[2].dataType = IntegerType() # Pclass\n",
    "# train_fields[6].dataType = FloatType() # age\n",
    "# train_fields[7].dataType = IntegerType() # SibSp\n",
    "# train_fields[8].dataType = IntegerType() # Parch\n",
    "# train_fields[10].dataType = FloatType() # Fare\n",
    "# train_fields"
   ]
  },
  {
   "cell_type": "code",
   "execution_count": 3,
   "metadata": {},
   "outputs": [],
   "source": [
    "train_schema = StructType(train_fields)\n",
    "# - - - use mapping to do the job (https://6chaoran.wordpress.com/2016/08/13/__trashed/) # (map can be used in this way! def function dealing with each row)\n",
    "def parseRow(row): # later used for map function\n",
    "    # remove double quote in names, spilt text row by comma; \n",
    "    row_list = row.replace('\"','').split(\",\") # &quot; = \" doesn't work\n",
    "    # convert list to tuple to get compatible with pyspark data structure\n",
    "    row_temp=[]\n",
    "    \n",
    "    for index in range(len(row_list)):\n",
    "        if index in [0,1,2,7,8]:\n",
    "            row_temp.append(row_list[index]) # need to convert type o.w. u'1'(unicode) cannot be convert to dataframe scheme with integer/ float defiend\n",
    "        elif index in [6,10]:\n",
    "            row_temp.append(row_list[index])\n",
    "        else:\n",
    "            row_temp.append(row_list[index])\n",
    "    row_tuple = tuple(row_temp)\n",
    "    return row_tuple\n",
    "\n",
    "train_df_temp = train_rdd_temp.map(parseRow) # pyspark.rdd.PipelinedRDD\n",
    "# train_df_temp.take(2)   \n",
    "# train_df_temp.top(2) "
   ]
  },
  {
   "cell_type": "code",
   "execution_count": 4,
   "metadata": {},
   "outputs": [
    {
     "name": "stdout",
     "output_type": "stream",
     "text": [
      "+-----------+--------+------+---------+--------------------+------+---+-----+-----+----------------+-------+-----+--------+\n",
      "|PassengerId|Survived|Pclass|FirstName|       TitleLastname|   Sex|Age|SibSp|Parch|          Ticket|   Fare|Cabin|Embarked|\n",
      "+-----------+--------+------+---------+--------------------+------+---+-----+-----+----------------+-------+-----+--------+\n",
      "|          1|       0|     3|   Braund|     Mr. Owen Harris|  male| 22|    1|    0|       A/5 21171|   7.25|     |       S|\n",
      "|          2|       1|     1|  Cumings| Mrs. John Bradle...|female| 38|    1|    0|        PC 17599|71.2833|  C85|       C|\n",
      "|          3|       1|     3|Heikkinen|         Miss. Laina|female| 26|    0|    0|STON/O2. 3101282|  7.925|     |       S|\n",
      "+-----------+--------+------+---------+--------------------+------+---+-----+-----+----------------+-------+-----+--------+\n",
      "only showing top 3 rows\n",
      "\n"
     ]
    }
   ],
   "source": [
    "# - - rdd to dataframe\n",
    "# method1 － http://www.nodalpoint.com/spark-data-frames-from-csv-files-handling-headers-column-types/\n",
    "sqlContext = SQLContext(sc) # create a basic SQLContext object from class SQLContext\n",
    "train_df = spark.createDataFrame(train_df_temp, train_schema)\n",
    "# train_df.head(10)\n",
    "train_df.show(3)\n"
   ]
  },
  {
   "cell_type": "markdown",
   "metadata": {},
   "source": [
    "Above is the sample of training set after processing"
   ]
  },
  {
   "cell_type": "code",
   "execution_count": 5,
   "metadata": {},
   "outputs": [
    {
     "name": "stdout",
     "output_type": "stream",
     "text": [
      "+-----------+------+---------+--------------------+------+----+-----+-----+------+------+-----+--------+\n",
      "|PassengerId|Pclass|FirstName|       TitleLastname|   Sex| Age|SibSp|Parch|Ticket|  Fare|Cabin|Embarked|\n",
      "+-----------+------+---------+--------------------+------+----+-----+-----+------+------+-----+--------+\n",
      "|        892|     3|    Kelly|           Mr. James|  male|34.5|    0|    0|330911|7.8292|     |       Q|\n",
      "|        893|     3|   Wilkes| Mrs. James (Elle...|female|  47|    1|    0|363272|     7|     |       S|\n",
      "|        894|     2|    Myles|  Mr. Thomas Francis|  male|  62|    0|    0|240276|9.6875|     |       Q|\n",
      "+-----------+------+---------+--------------------+------+----+-----+-----+------+------+-----+--------+\n",
      "only showing top 3 rows\n",
      "\n"
     ]
    }
   ],
   "source": [
    "# - Test RDD to DataFrame\n",
    "# - - use the header to build the fields for our schema (http://www.nodalpoint.com/spark-data-frames-from-csv-files-handling-headers-column-types/)\n",
    "test_header = test_rdd.first()\n",
    "test_rdd_temp = test_rdd.filter (lambda line: line!=test_header) # deleting header to prepare for dataframe \n",
    "test_header = test_header.replace('\"','')  # get rid of the double-quotes\n",
    "colnames = test_header.split(',')\n",
    "colnames.insert(2,'FirstName') # It's a trap~ the name is in the forms of \"firstname, mrs.tom jerry\" with comma (https://6chaoran.wordpress.com/2016/08/13/__trashed/)\n",
    "test_fields = [StructField(field_name, StringType(), True) for field_name in colnames]\n",
    "test_fields[3].name = 'TitleLastname'\n",
    "\n",
    "# test_fields\n",
    "\n",
    "test_schema = StructType(test_fields)\n",
    "# test_rdd.take(3)\n",
    "# - - - use mapping to do the job (https://6chaoran.wordpress.com/2016/08/13/__trashed/) # (map can be used in this way! def function dealing with each row)\n",
    "def parseRow(row): # later used for map function\n",
    "    # remove double quote in names, spilt text row by comma; \n",
    "    row_list = row.replace('\"','').split(\",\") # &quot; = \" doesn't work\n",
    "    row_tuple = tuple(row_list)\n",
    "    return row_tuple\n",
    "\n",
    "test_df_temp = test_rdd_temp.map(parseRow) # pyspark.rdd.PipelinedRDD\n",
    "test_df_temp.take(2)   \n",
    "# test_df_temp.top(2) \n",
    "\n",
    "\n",
    "# - - rdd to dataframe\n",
    "# method1 － http://www.nodalpoint.com/spark-data-frames-from-csv-files-handling-headers-column-types/\n",
    "sqlContext = SQLContext(sc) # create a basic SQLContext object from class SQLContext（？）\n",
    "test_df = spark.createDataFrame(test_df_temp, test_schema)\n",
    "# test_df.head(10)\n",
    "test_df.show(3)\n"
   ]
  },
  {
   "cell_type": "markdown",
   "metadata": {
    "collapsed": true
   },
   "source": [
    "Above is the sample of testing set after processing"
   ]
  },
  {
   "cell_type": "code",
   "execution_count": 6,
   "metadata": {},
   "outputs": [
    {
     "name": "stdout",
     "output_type": "stream",
     "text": [
      "root\n",
      " |-- PassengerId: string (nullable = true)\n",
      " |-- Survived: double (nullable = true)\n",
      " |-- Pclass: double (nullable = true)\n",
      " |-- FirstName: string (nullable = true)\n",
      " |-- TitleLastname: string (nullable = true)\n",
      " |-- Sex: string (nullable = true)\n",
      " |-- Age: double (nullable = true)\n",
      " |-- SibSp: double (nullable = true)\n",
      " |-- Parch: double (nullable = true)\n",
      " |-- Ticket: string (nullable = true)\n",
      " |-- Fare: double (nullable = true)\n",
      " |-- Cabin: string (nullable = true)\n",
      " |-- Embarked: string (nullable = true)\n",
      "\n"
     ]
    }
   ],
   "source": [
    "# convert type now to double ((https://6chaoran.wordpress.com/2016/08/13/__trashed/) \n",
    "# assume pclass here is numerical, o.w. later we will still convert it from categorical to numerica\n",
    "train_df = (train_df.withColumn('Age',train_df['Age'].cast(\"double\"))\n",
    "            .withColumn('SibSp',train_df['SibSp'].cast(\"double\"))\n",
    "            .withColumn('Parch',train_df['Parch'].cast(\"double\"))\n",
    "            .withColumn('Fare',train_df['Fare'].cast(\"double\"))\n",
    "            .withColumn('Survived',train_df['Survived'].cast(\"double\"))\n",
    "            .withColumn('Pclass',train_df['Pclass'].cast(\"double\"))\n",
    "            )\n",
    "train_df.printSchema()"
   ]
  },
  {
   "cell_type": "markdown",
   "metadata": {},
   "source": [
    "Above is the info of training set after processing"
   ]
  },
  {
   "cell_type": "code",
   "execution_count": 7,
   "metadata": {},
   "outputs": [
    {
     "name": "stdout",
     "output_type": "stream",
     "text": [
      "root\n",
      " |-- PassengerId: string (nullable = true)\n",
      " |-- Pclass: double (nullable = true)\n",
      " |-- FirstName: string (nullable = true)\n",
      " |-- TitleLastname: string (nullable = true)\n",
      " |-- Sex: string (nullable = true)\n",
      " |-- Age: double (nullable = true)\n",
      " |-- SibSp: double (nullable = true)\n",
      " |-- Parch: double (nullable = true)\n",
      " |-- Ticket: string (nullable = true)\n",
      " |-- Fare: double (nullable = true)\n",
      " |-- Cabin: string (nullable = true)\n",
      " |-- Embarked: string (nullable = true)\n",
      "\n"
     ]
    }
   ],
   "source": [
    "test_df = (test_df.withColumn('Age',test_df['Age'].cast(\"double\"))\n",
    "            .withColumn('SibSp',test_df['SibSp'].cast(\"double\"))\n",
    "            .withColumn('Parch',test_df['Parch'].cast(\"double\"))\n",
    "            .withColumn('Fare',test_df['Fare'].cast(\"double\"))\n",
    "            .withColumn('Pclass',test_df['Pclass'].cast(\"double\"))\n",
    "            )\n",
    "test_df.printSchema()"
   ]
  },
  {
   "cell_type": "markdown",
   "metadata": {},
   "source": [
    "Above is the info of testing set after processing"
   ]
  },
  {
   "cell_type": "markdown",
   "metadata": {},
   "source": [
    "# Data Cleaning "
   ]
  },
  {
   "cell_type": "markdown",
   "metadata": {},
   "source": [
    "##  missing data"
   ]
  },
  {
   "cell_type": "code",
   "execution_count": 8,
   "metadata": {},
   "outputs": [
    {
     "name": "stdout",
     "output_type": "stream",
     "text": [
      "{'Fare': 0, 'Embarked': 0, 'Age': 177, 'Parch': 0, 'Sex': 0, 'Survived': 0, 'SibSp': 0, 'Cabin': 0}\n"
     ]
    }
   ],
   "source": [
    "trainVars = ['Survived','Age','SibSp','Parch','Fare','Sex','Cabin','Embarked']\n",
    "testVars = ['Age','SibSp','Parch','Fare','Sex','Cabin','Embarked']\n",
    "def countNull(df,attribute):\n",
    "    return df.where(df[attribute].isNull()).count()\n",
    "def reportNull(Vars,dataframe):\n",
    "    dict={}\n",
    "    for item in Vars:\n",
    "        dict[item] = countNull(dataframe,item) \n",
    "    print(dict)\n",
    "reportNull(trainVars,train_df)"
   ]
  },
  {
   "cell_type": "markdown",
   "metadata": {},
   "source": [
    "Above is the missing data of training set"
   ]
  },
  {
   "cell_type": "code",
   "execution_count": 9,
   "metadata": {},
   "outputs": [
    {
     "name": "stdout",
     "output_type": "stream",
     "text": [
      "{'Fare': 1, 'Embarked': 0, 'Age': 86, 'Parch': 0, 'Sex': 0, 'SibSp': 0, 'Cabin': 0}\n"
     ]
    }
   ],
   "source": [
    "reportNull(testVars,test_df)"
   ]
  },
  {
   "cell_type": "markdown",
   "metadata": {},
   "source": [
    "Above is the missing data of test set"
   ]
  },
  {
   "cell_type": "markdown",
   "metadata": {},
   "source": [
    "As the number of variables and missing records are higher than what we can affford to treat missing data by deleting them, we will fill missing data of age and fare with average of [training data]\n",
    "(train data have 892 records, test data have 419 records) "
   ]
  },
  {
   "cell_type": "code",
   "execution_count": 10,
   "metadata": {},
   "outputs": [],
   "source": [
    "age_mean = train_df.groupBy().mean('Age').first()[0]\n",
    "fare_mean = train_df.groupBy().mean('Fare').first()[0] # in fact, df has no function median, which is better than mean since there might be certain discrete levels \n",
    "# age_mean # 29.699117647066895\n",
    "# fare_mean # 32.2042079685746\n",
    "train_df = train_df.na.fill({'Age':age_mean,'Fare':fare_mean})"
   ]
  },
  {
   "cell_type": "markdown",
   "metadata": {},
   "source": [
    "In fact, Cabin (lots of missing in both sets) and Embarked (2 missing in training set) also have missing data, but it was not detected! (why?)"
   ]
  },
  {
   "cell_type": "code",
   "execution_count": 11,
   "metadata": {},
   "outputs": [
    {
     "name": "stdout",
     "output_type": "stream",
     "text": [
      "+--------+-----+\n",
      "|Embarked|count|\n",
      "+--------+-----+\n",
      "|       Q|   77|\n",
      "|       C|  168|\n",
      "|       S|  644|\n",
      "|        |    2|\n",
      "+--------+-----+\n",
      "\n"
     ]
    }
   ],
   "source": [
    "# test_df.groupBy(\"Embarked\").count().show()\n",
    "train_df.groupBy(\"Embarked\").count().show()"
   ]
  },
  {
   "cell_type": "markdown",
   "metadata": {},
   "source": [
    "Filling the missing Embarked data with the most common one 'S'"
   ]
  },
  {
   "cell_type": "code",
   "execution_count": 12,
   "metadata": {
    "collapsed": true
   },
   "outputs": [],
   "source": [
    "train_df = train_df.na.fill({'Embarked':'S','Fare':fare_mean})\n",
    "test_df = test_df.na.fill({'Embarked':'S','Fare':fare_mean}) "
   ]
  },
  {
   "cell_type": "markdown",
   "metadata": {},
   "source": [
    "As there are a great amount of cabin data missing, I decided not to use this column, considering the fact that cabin (deck and location) can be highly related to fair (regardless of extreme expenses during the cruise, e.g., casino). in the future, I might also try predict cabin information from the data set. Also we will not touch varibales of passenger id, firstname, title&lastname, ticket, though title may reveal info like marriage status, royal call and so on."
   ]
  },
  {
   "cell_type": "code",
   "execution_count": 14,
   "metadata": {},
   "outputs": [],
   "source": [
    "drop_list = ['PassengerId','FirstName','Ticket','TitleLastname','Cabin']\n",
    "train_df = train_df.select([column for column in train_df.columns if column not in drop_list])\n",
    "# train_df.show(3)\n",
    "\n",
    "drop_list_test = ['FirstName','Ticket','TitleLastname','Cabin']\n",
    "test_df = test_df.select([column for column in test_df.columns if column not in drop_list])\n",
    "# test_df.show(3)"
   ]
  },
  {
   "cell_type": "markdown",
   "metadata": {},
   "source": [
    "## index categorical variable"
   ]
  },
  {
   "cell_type": "markdown",
   "metadata": {},
   "source": [
    "Sex: male-0, female-1 | Embarked: S-0, C-1, Q-2"
   ]
  },
  {
   "cell_type": "code",
   "execution_count": 44,
   "metadata": {},
   "outputs": [
    {
     "name": "stdout",
     "output_type": "stream",
     "text": [
      "+--------+------+----+-----+-----+-------+---+--------+\n",
      "|Survived|Pclass| Age|SibSp|Parch|   Fare|Sex|Embarked|\n",
      "+--------+------+----+-----+-----+-------+---+--------+\n",
      "|     0.0|   3.0|22.0|  1.0|  0.0|   7.25|0.0|     0.0|\n",
      "|     1.0|   1.0|38.0|  1.0|  0.0|71.2833|1.0|     1.0|\n",
      "|     1.0|   3.0|26.0|  0.0|  0.0|  7.925|1.0|     0.0|\n",
      "|     1.0|   1.0|35.0|  1.0|  0.0|   53.1|1.0|     0.0|\n",
      "|     0.0|   3.0|35.0|  0.0|  0.0|   8.05|0.0|     0.0|\n",
      "+--------+------+----+-----+-----+-------+---+--------+\n",
      "only showing top 5 rows\n",
      "\n",
      "+------+----+-----+-----+-------+---+--------+\n",
      "|Pclass| Age|SibSp|Parch|   Fare|Sex|Embarked|\n",
      "+------+----+-----+-----+-------+---+--------+\n",
      "|   3.0|34.5|  0.0|  0.0| 7.8292|0.0|     2.0|\n",
      "|   3.0|47.0|  1.0|  0.0|    7.0|1.0|     0.0|\n",
      "|   2.0|62.0|  0.0|  0.0| 9.6875|0.0|     2.0|\n",
      "|   3.0|27.0|  0.0|  0.0| 8.6625|0.0|     0.0|\n",
      "|   3.0|22.0|  1.0|  1.0|12.2875|1.0|     0.0|\n",
      "+------+----+-----+-----+-------+---+--------+\n",
      "only showing top 5 rows\n",
      "\n"
     ]
    }
   ],
   "source": [
    "# catVars = ['Sex','Embarked']\n",
    "\n",
    "## index Sex variable \n",
    "import numpy as np\n",
    "from pyspark.ml.feature import StringIndexer\n",
    "si_train_Sex = StringIndexer(inputCol = 'Sex', outputCol = 'Sex_indexed')\n",
    "train_df_Sex = si_train_Sex.fit(train_df).transform(train_df).drop('Sex').withColumnRenamed('Sex_indexed','Sex') \n",
    "# index according to frequency in fit set: male-0, female-1\n",
    "# train_df_Sex.show(5)\n",
    "    \n",
    "si_test_Sex = StringIndexer(inputCol = 'Sex', outputCol = 'Sex_indexed')\n",
    "test_df_Sex = si_test_Sex.fit(train_df).transform(test_df).drop('Sex').withColumnRenamed('Sex_indexed','Sex')\n",
    "# test_df_Sex.show(5)\n",
    "\n",
    "## index Embarked variable \n",
    "si_train_Embarked = StringIndexer(inputCol = 'Embarked', outputCol = 'Embarked_indexed')\n",
    "train_df_indexed = si_train_Embarked.fit(train_df).transform(train_df_Sex).drop('Embarked').withColumnRenamed('Embarked_indexed','Embarked')  \n",
    "# index according to frequency in fit set: S-0, C-1, Q-2\n",
    "train_df_indexed.show(5)\n",
    "\n",
    "si_test_Embarked = StringIndexer(inputCol = 'Embarked', outputCol = 'Embarked_indexed')\n",
    "test_df_indexed = si_test_Embarked.fit(train_df).transform(test_df_Sex).drop('Embarked').withColumnRenamed('Embarked_indexed','Embarked')\n",
    "test_df_indexed.show(5)"
   ]
  },
  {
   "cell_type": "markdown",
   "metadata": {
    "collapsed": true
   },
   "source": [
    "# Apply Machine Learning models"
   ]
  },
  {
   "cell_type": "markdown",
   "metadata": {
    "collapsed": true
   },
   "source": [
    "Before putting data into training, we need to convert features to formats that spark.mllib can accept for different algorithms"
   ]
  },
  {
   "cell_type": "code",
   "execution_count": 51,
   "metadata": {},
   "outputs": [],
   "source": [
    "from pyspark.mllib.regression import LabeledPoint\n",
    "\n",
    "train_rdd_indexed = train_df_indexed.rdd # map can only be applied to rdd rather than df\n",
    "\n",
    "# Load and parse the data\n",
    "def parsePoint(line):\n",
    "    return LabeledPoint(line[0], line[1:])\n",
    "\n",
    "parsedData = train_rdd_indexed.map(parsePoint)\n",
    "\n",
    "# parsedData.take(3)"
   ]
  },
  {
   "cell_type": "markdown",
   "metadata": {},
   "source": [
    "## split training data "
   ]
  },
  {
   "cell_type": "code",
   "execution_count": 86,
   "metadata": {},
   "outputs": [],
   "source": [
    "# Split data into training and test\n",
    "train_data=[]\n",
    "test_data=[]\n",
    "number=[]\n",
    "train_total=parsedData.count() # 891\n",
    "rate=[0.01,0.05,0.1,0.15,0.2,0.25,0.3,0.35,0.4,0.45,0.5,0.55,0.6,0.65,0.7,0.75,0.8]\n",
    "for i in rate: \n",
    "    training, test = parsedData.randomSplit([i,1-i],seed=11)\n",
    "    train_data.append(training)\n",
    "    test_data.append(test)\n",
    "    number.append(train_total*i)\n",
    "# train_data[3].take(3)\n",
    "trial=len(number) #15"
   ]
  },
  {
   "cell_type": "markdown",
   "metadata": {},
   "source": [
    "## logistics regression and metrics"
   ]
  },
  {
   "cell_type": "code",
   "execution_count": 91,
   "metadata": {},
   "outputs": [
    {
     "data": {
      "image/png": "[encoded data removed]",
      "text/plain": [
       "<matplotlib.figure.Figure at 0x7f0a1882e290>"
      ]
     },
     "metadata": {},
     "output_type": "display_data"
    }
   ],
   "source": [
    "from pyspark.mllib.classification import LogisticRegressionWithLBFGS\n",
    "from pyspark.mllib.util import MLUtils\n",
    "from pyspark.mllib.evaluation import MulticlassMetrics\n",
    "from pyspark.mllib.classification import SVMWithSGD, SVMModel\n",
    "\n",
    "Precision=[]\n",
    "Recall=[]\n",
    "F1Score=[]\n",
    "WeightedF1Score_1=[]\n",
    "Accuracy=[]\n",
    "\n",
    "for i in range(trial):\n",
    "\n",
    "    # Run training algorithm to build the model\n",
    "    model = LogisticRegressionWithLBFGS.train(train_data[i], numClasses=2)\n",
    "\n",
    "\n",
    "    # Compute raw scores on the test set\n",
    "    predictionAndLabels = test_data[i].map(lambda lp: (float(model.predict(lp.features)), lp.label))\n",
    "\n",
    "    # Accuracy\n",
    "    \n",
    "    trainErr = predictionAndLabels.filter(lambda (v, p): v != p).count() / float(test_data[i].count())\n",
    "    Accuracy.append(1-trainErr)\n",
    "    \n",
    "    # Instantiate metrics object\n",
    "    metrics = MulticlassMetrics(predictionAndLabels)\n",
    "\n",
    "    # Overall statistics\n",
    "    Precision.append(metrics.precision())\n",
    "    Recall.append( metrics.recall())\n",
    "    F1Score.append(metrics.fMeasure())\n",
    "    WeightedF1Score_1.append(metrics.weightedFMeasure())\n",
    "\n",
    "    \n",
    "import matplotlib.pyplot as plt\n",
    "plt.plot(number,Accuracy, linewidth=2.0)\n",
    "plt.show()\n"
   ]
  },
  {
   "cell_type": "markdown",
   "metadata": {},
   "source": [
    "\n",
    "plt.plot(number,F1Score, linewidth=2.0)\n",
    "plt.show()\n"
   ]
  },
  {
   "cell_type": "code",
   "execution_count": 92,
   "metadata": {},
   "outputs": [
    {
     "data": {
      "image/png": "[encoded data removed]",
      "text/plain": [
       "<matplotlib.figure.Figure at 0x7f0a187a38d0>"
      ]
     },
     "metadata": {},
     "output_type": "display_data"
    }
   ],
   "source": [
    "plt.plot(number,F1Score, linewidth=2.0)\n",
    "plt.show()"
   ]
  },
  {
   "cell_type": "code",
   "execution_count": 93,
   "metadata": {},
   "outputs": [
    {
     "data": {
      "image/png": "[encoded data removed]",
      "text/plain": [
       "<matplotlib.figure.Figure at 0x7f0a18902390>"
      ]
     },
     "metadata": {},
     "output_type": "display_data"
    }
   ],
   "source": [
    "plt.plot(number,WeightedF1Score_1, linewidth=2.0)\n",
    "plt.show()"
   ]
  },
  {
   "cell_type": "markdown",
   "metadata": {},
   "source": [
    "## Random Forest"
   ]
  },
  {
   "cell_type": "code",
   "execution_count": null,
   "metadata": {},
   "outputs": [],
   "source": []
  }
 ],
 "metadata": {
  "kernelspec": {
   "display_name": "Python 3",
   "language": "python",
   "name": "python3"
  },
  "language_info": {
   "codemirror_mode": {
    "name": "ipython",
    "version": 3
   },
   "file_extension": ".py",
   "mimetype": "text/x-python",
   "name": "python",
   "nbconvert_exporter": "python",
   "pygments_lexer": "ipython3",
   "version": "3.6.4"
  }
 },
 "nbformat": 4,
 "nbformat_minor": 2
}
